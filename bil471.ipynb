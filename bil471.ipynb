{
  "nbformat": 4,
  "nbformat_minor": 0,
  "metadata": {
    "colab": {
      "provenance": []
    },
    "kernelspec": {
      "name": "python3",
      "display_name": "Python 3"
    },
    "language_info": {
      "name": "python"
    },
    "accelerator": "GPU",
    "gpuClass": "standard",
    "widgets": {
      "application/vnd.jupyter.widget-state+json": {
        "c0a877616f5b48c3910e2fe2a206f2ba": {
          "model_module": "@jupyter-widgets/controls",
          "model_name": "HBoxModel",
          "model_module_version": "1.5.0",
          "state": {
            "_dom_classes": [],
            "_model_module": "@jupyter-widgets/controls",
            "_model_module_version": "1.5.0",
            "_model_name": "HBoxModel",
            "_view_count": null,
            "_view_module": "@jupyter-widgets/controls",
            "_view_module_version": "1.5.0",
            "_view_name": "HBoxView",
            "box_style": "",
            "children": [
              "IPY_MODEL_b07edb45f1ee4b768d1a36ea51875fa8",
              "IPY_MODEL_84e59561fcdc4fff8e51d3de07339cc5",
              "IPY_MODEL_94577f7136ac4bd797b2218d1386ee9e"
            ],
            "layout": "IPY_MODEL_0e16073337a948a297d1c186c778976a"
          }
        },
        "b07edb45f1ee4b768d1a36ea51875fa8": {
          "model_module": "@jupyter-widgets/controls",
          "model_name": "HTMLModel",
          "model_module_version": "1.5.0",
          "state": {
            "_dom_classes": [],
            "_model_module": "@jupyter-widgets/controls",
            "_model_module_version": "1.5.0",
            "_model_name": "HTMLModel",
            "_view_count": null,
            "_view_module": "@jupyter-widgets/controls",
            "_view_module_version": "1.5.0",
            "_view_name": "HTMLView",
            "description": "",
            "description_tooltip": null,
            "layout": "IPY_MODEL_a071181cdf474cefaaca263ab4712f49",
            "placeholder": "​",
            "style": "IPY_MODEL_60ea3c501b9b4386af344ff14fc8b6f0",
            "value": "100%"
          }
        },
        "84e59561fcdc4fff8e51d3de07339cc5": {
          "model_module": "@jupyter-widgets/controls",
          "model_name": "FloatProgressModel",
          "model_module_version": "1.5.0",
          "state": {
            "_dom_classes": [],
            "_model_module": "@jupyter-widgets/controls",
            "_model_module_version": "1.5.0",
            "_model_name": "FloatProgressModel",
            "_view_count": null,
            "_view_module": "@jupyter-widgets/controls",
            "_view_module_version": "1.5.0",
            "_view_name": "ProgressView",
            "bar_style": "success",
            "description": "",
            "description_tooltip": null,
            "layout": "IPY_MODEL_9acfc896cb1046788c07c4baf730cbf9",
            "max": 3231519,
            "min": 0,
            "orientation": "horizontal",
            "style": "IPY_MODEL_45c618012a674329847b3150d8e0590c",
            "value": 3231519
          }
        },
        "94577f7136ac4bd797b2218d1386ee9e": {
          "model_module": "@jupyter-widgets/controls",
          "model_name": "HTMLModel",
          "model_module_version": "1.5.0",
          "state": {
            "_dom_classes": [],
            "_model_module": "@jupyter-widgets/controls",
            "_model_module_version": "1.5.0",
            "_model_name": "HTMLModel",
            "_view_count": null,
            "_view_module": "@jupyter-widgets/controls",
            "_view_module_version": "1.5.0",
            "_view_name": "HTMLView",
            "description": "",
            "description_tooltip": null,
            "layout": "IPY_MODEL_f929cd1eeabe43769d35407bf0c6dd2d",
            "placeholder": "​",
            "style": "IPY_MODEL_a4f7464730264c06b4a14118f884a875",
            "value": " 3231519/3231519 [1:50:23&lt;00:00, 563.58it/s]"
          }
        },
        "0e16073337a948a297d1c186c778976a": {
          "model_module": "@jupyter-widgets/base",
          "model_name": "LayoutModel",
          "model_module_version": "1.2.0",
          "state": {
            "_model_module": "@jupyter-widgets/base",
            "_model_module_version": "1.2.0",
            "_model_name": "LayoutModel",
            "_view_count": null,
            "_view_module": "@jupyter-widgets/base",
            "_view_module_version": "1.2.0",
            "_view_name": "LayoutView",
            "align_content": null,
            "align_items": null,
            "align_self": null,
            "border": null,
            "bottom": null,
            "display": null,
            "flex": null,
            "flex_flow": null,
            "grid_area": null,
            "grid_auto_columns": null,
            "grid_auto_flow": null,
            "grid_auto_rows": null,
            "grid_column": null,
            "grid_gap": null,
            "grid_row": null,
            "grid_template_areas": null,
            "grid_template_columns": null,
            "grid_template_rows": null,
            "height": null,
            "justify_content": null,
            "justify_items": null,
            "left": null,
            "margin": null,
            "max_height": null,
            "max_width": null,
            "min_height": null,
            "min_width": null,
            "object_fit": null,
            "object_position": null,
            "order": null,
            "overflow": null,
            "overflow_x": null,
            "overflow_y": null,
            "padding": null,
            "right": null,
            "top": null,
            "visibility": null,
            "width": null
          }
        },
        "a071181cdf474cefaaca263ab4712f49": {
          "model_module": "@jupyter-widgets/base",
          "model_name": "LayoutModel",
          "model_module_version": "1.2.0",
          "state": {
            "_model_module": "@jupyter-widgets/base",
            "_model_module_version": "1.2.0",
            "_model_name": "LayoutModel",
            "_view_count": null,
            "_view_module": "@jupyter-widgets/base",
            "_view_module_version": "1.2.0",
            "_view_name": "LayoutView",
            "align_content": null,
            "align_items": null,
            "align_self": null,
            "border": null,
            "bottom": null,
            "display": null,
            "flex": null,
            "flex_flow": null,
            "grid_area": null,
            "grid_auto_columns": null,
            "grid_auto_flow": null,
            "grid_auto_rows": null,
            "grid_column": null,
            "grid_gap": null,
            "grid_row": null,
            "grid_template_areas": null,
            "grid_template_columns": null,
            "grid_template_rows": null,
            "height": null,
            "justify_content": null,
            "justify_items": null,
            "left": null,
            "margin": null,
            "max_height": null,
            "max_width": null,
            "min_height": null,
            "min_width": null,
            "object_fit": null,
            "object_position": null,
            "order": null,
            "overflow": null,
            "overflow_x": null,
            "overflow_y": null,
            "padding": null,
            "right": null,
            "top": null,
            "visibility": null,
            "width": null
          }
        },
        "60ea3c501b9b4386af344ff14fc8b6f0": {
          "model_module": "@jupyter-widgets/controls",
          "model_name": "DescriptionStyleModel",
          "model_module_version": "1.5.0",
          "state": {
            "_model_module": "@jupyter-widgets/controls",
            "_model_module_version": "1.5.0",
            "_model_name": "DescriptionStyleModel",
            "_view_count": null,
            "_view_module": "@jupyter-widgets/base",
            "_view_module_version": "1.2.0",
            "_view_name": "StyleView",
            "description_width": ""
          }
        },
        "9acfc896cb1046788c07c4baf730cbf9": {
          "model_module": "@jupyter-widgets/base",
          "model_name": "LayoutModel",
          "model_module_version": "1.2.0",
          "state": {
            "_model_module": "@jupyter-widgets/base",
            "_model_module_version": "1.2.0",
            "_model_name": "LayoutModel",
            "_view_count": null,
            "_view_module": "@jupyter-widgets/base",
            "_view_module_version": "1.2.0",
            "_view_name": "LayoutView",
            "align_content": null,
            "align_items": null,
            "align_self": null,
            "border": null,
            "bottom": null,
            "display": null,
            "flex": null,
            "flex_flow": null,
            "grid_area": null,
            "grid_auto_columns": null,
            "grid_auto_flow": null,
            "grid_auto_rows": null,
            "grid_column": null,
            "grid_gap": null,
            "grid_row": null,
            "grid_template_areas": null,
            "grid_template_columns": null,
            "grid_template_rows": null,
            "height": null,
            "justify_content": null,
            "justify_items": null,
            "left": null,
            "margin": null,
            "max_height": null,
            "max_width": null,
            "min_height": null,
            "min_width": null,
            "object_fit": null,
            "object_position": null,
            "order": null,
            "overflow": null,
            "overflow_x": null,
            "overflow_y": null,
            "padding": null,
            "right": null,
            "top": null,
            "visibility": null,
            "width": null
          }
        },
        "45c618012a674329847b3150d8e0590c": {
          "model_module": "@jupyter-widgets/controls",
          "model_name": "ProgressStyleModel",
          "model_module_version": "1.5.0",
          "state": {
            "_model_module": "@jupyter-widgets/controls",
            "_model_module_version": "1.5.0",
            "_model_name": "ProgressStyleModel",
            "_view_count": null,
            "_view_module": "@jupyter-widgets/base",
            "_view_module_version": "1.2.0",
            "_view_name": "StyleView",
            "bar_color": null,
            "description_width": ""
          }
        },
        "f929cd1eeabe43769d35407bf0c6dd2d": {
          "model_module": "@jupyter-widgets/base",
          "model_name": "LayoutModel",
          "model_module_version": "1.2.0",
          "state": {
            "_model_module": "@jupyter-widgets/base",
            "_model_module_version": "1.2.0",
            "_model_name": "LayoutModel",
            "_view_count": null,
            "_view_module": "@jupyter-widgets/base",
            "_view_module_version": "1.2.0",
            "_view_name": "LayoutView",
            "align_content": null,
            "align_items": null,
            "align_self": null,
            "border": null,
            "bottom": null,
            "display": null,
            "flex": null,
            "flex_flow": null,
            "grid_area": null,
            "grid_auto_columns": null,
            "grid_auto_flow": null,
            "grid_auto_rows": null,
            "grid_column": null,
            "grid_gap": null,
            "grid_row": null,
            "grid_template_areas": null,
            "grid_template_columns": null,
            "grid_template_rows": null,
            "height": null,
            "justify_content": null,
            "justify_items": null,
            "left": null,
            "margin": null,
            "max_height": null,
            "max_width": null,
            "min_height": null,
            "min_width": null,
            "object_fit": null,
            "object_position": null,
            "order": null,
            "overflow": null,
            "overflow_x": null,
            "overflow_y": null,
            "padding": null,
            "right": null,
            "top": null,
            "visibility": null,
            "width": null
          }
        },
        "a4f7464730264c06b4a14118f884a875": {
          "model_module": "@jupyter-widgets/controls",
          "model_name": "DescriptionStyleModel",
          "model_module_version": "1.5.0",
          "state": {
            "_model_module": "@jupyter-widgets/controls",
            "_model_module_version": "1.5.0",
            "_model_name": "DescriptionStyleModel",
            "_view_count": null,
            "_view_module": "@jupyter-widgets/base",
            "_view_module_version": "1.2.0",
            "_view_name": "StyleView",
            "description_width": ""
          }
        }
      }
    }
  },
  "cells": [
    {
      "cell_type": "markdown",
      "source": [
        "IMPORTS"
      ],
      "metadata": {
        "id": "dPnkZMo5935v"
      }
    },
    {
      "cell_type": "code",
      "source": [
        "# Connect with drive\n",
        "from google.colab import drive\n",
        "\n",
        "drive.mount('/content/drive')"
      ],
      "metadata": {
        "colab": {
          "base_uri": "https://localhost:8080/"
        },
        "id": "J1PIIUdixMbw",
        "outputId": "515a7b11-3f41-47e0-ad38-74e10b9f54d5"
      },
      "execution_count": 1,
      "outputs": [
        {
          "output_type": "stream",
          "name": "stdout",
          "text": [
            "Drive already mounted at /content/drive; to attempt to forcibly remount, call drive.mount(\"/content/drive\", force_remount=True).\n"
          ]
        }
      ]
    },
    {
      "cell_type": "code",
      "source": [
        "# Import and download necessary language models\n",
        "!pip install tf-nightly\n",
        "from gensim.models.doc2vec import Doc2Vec, TaggedDocument\n",
        "from nltk.tokenize import sent_tokenize, word_tokenize\n",
        "import nltk\n",
        "import tensorflow as tf\n",
        "import pickle\n",
        "import numpy as np\n",
        "import re\n",
        "nltk.download('punkt')\n",
        "nltk.download(\"stopwords\")"
      ],
      "metadata": {
        "colab": {
          "base_uri": "https://localhost:8080/"
        },
        "id": "NxyTxSV3-ZQO",
        "outputId": "b3db79c4-aaa7-4335-c2c1-7fea4cac4875"
      },
      "execution_count": 2,
      "outputs": [
        {
          "output_type": "stream",
          "name": "stdout",
          "text": [
            "Looking in indexes: https://pypi.org/simple, https://us-python.pkg.dev/colab-wheels/public/simple/\n",
            "Requirement already satisfied: tf-nightly in /usr/local/lib/python3.10/dist-packages (2.13.0.dev20230501)\n",
            "Requirement already satisfied: absl-py>=1.0.0 in /usr/local/lib/python3.10/dist-packages (from tf-nightly) (1.4.0)\n",
            "Requirement already satisfied: astunparse>=1.6.0 in /usr/local/lib/python3.10/dist-packages (from tf-nightly) (1.6.3)\n",
            "Requirement already satisfied: flatbuffers>=23.1.21 in /usr/local/lib/python3.10/dist-packages (from tf-nightly) (23.3.3)\n",
            "Requirement already satisfied: gast<=0.4.0,>=0.2.1 in /usr/local/lib/python3.10/dist-packages (from tf-nightly) (0.4.0)\n",
            "Requirement already satisfied: google-pasta>=0.1.1 in /usr/local/lib/python3.10/dist-packages (from tf-nightly) (0.2.0)\n",
            "Requirement already satisfied: grpcio<2.0,>=1.24.3 in /usr/local/lib/python3.10/dist-packages (from tf-nightly) (1.54.0)\n",
            "Requirement already satisfied: h5py>=2.9.0 in /usr/local/lib/python3.10/dist-packages (from tf-nightly) (3.8.0)\n",
            "Requirement already satisfied: keras-nightly~=2.13.0.dev in /usr/local/lib/python3.10/dist-packages (from tf-nightly) (2.13.0.dev2023050107)\n",
            "Requirement already satisfied: libclang>=13.0.0 in /usr/local/lib/python3.10/dist-packages (from tf-nightly) (16.0.0)\n",
            "Requirement already satisfied: numpy>=1.22 in /usr/local/lib/python3.10/dist-packages (from tf-nightly) (1.22.4)\n",
            "Requirement already satisfied: opt-einsum>=2.3.2 in /usr/local/lib/python3.10/dist-packages (from tf-nightly) (3.3.0)\n",
            "Requirement already satisfied: packaging in /usr/local/lib/python3.10/dist-packages (from tf-nightly) (23.1)\n",
            "Requirement already satisfied: protobuf!=4.21.0,!=4.21.1,!=4.21.2,!=4.21.3,!=4.21.4,!=4.21.5,<5.0.0dev,>=3.20.3 in /usr/local/lib/python3.10/dist-packages (from tf-nightly) (3.20.3)\n",
            "Requirement already satisfied: setuptools in /usr/local/lib/python3.10/dist-packages (from tf-nightly) (67.7.2)\n",
            "Requirement already satisfied: six>=1.12.0 in /usr/local/lib/python3.10/dist-packages (from tf-nightly) (1.16.0)\n",
            "Requirement already satisfied: tb-nightly~=2.13.0.a in /usr/local/lib/python3.10/dist-packages (from tf-nightly) (2.13.0a20230501)\n",
            "Requirement already satisfied: termcolor>=1.1.0 in /usr/local/lib/python3.10/dist-packages (from tf-nightly) (2.3.0)\n",
            "Requirement already satisfied: tf-estimator-nightly~=2.13.0.dev in /usr/local/lib/python3.10/dist-packages (from tf-nightly) (2.13.0.dev2023050108)\n",
            "Requirement already satisfied: typing-extensions>=3.6.6 in /usr/local/lib/python3.10/dist-packages (from tf-nightly) (4.5.0)\n",
            "Requirement already satisfied: wrapt<1.15,>=1.11.0 in /usr/local/lib/python3.10/dist-packages (from tf-nightly) (1.14.1)\n",
            "Requirement already satisfied: tensorflow-io-gcs-filesystem>=0.23.1 in /usr/local/lib/python3.10/dist-packages (from tf-nightly) (0.32.0)\n",
            "Requirement already satisfied: wheel<1.0,>=0.23.0 in /usr/local/lib/python3.10/dist-packages (from astunparse>=1.6.0->tf-nightly) (0.40.0)\n",
            "Requirement already satisfied: google-auth<3,>=1.6.3 in /usr/local/lib/python3.10/dist-packages (from tb-nightly~=2.13.0.a->tf-nightly) (2.17.3)\n",
            "Requirement already satisfied: google-auth-oauthlib<1.1,>=0.5 in /usr/local/lib/python3.10/dist-packages (from tb-nightly~=2.13.0.a->tf-nightly) (1.0.0)\n",
            "Requirement already satisfied: markdown>=2.6.8 in /usr/local/lib/python3.10/dist-packages (from tb-nightly~=2.13.0.a->tf-nightly) (3.4.3)\n",
            "Requirement already satisfied: requests<3,>=2.21.0 in /usr/local/lib/python3.10/dist-packages (from tb-nightly~=2.13.0.a->tf-nightly) (2.27.1)\n",
            "Requirement already satisfied: tensorboard-data-server<0.8.0,>=0.7.0 in /usr/local/lib/python3.10/dist-packages (from tb-nightly~=2.13.0.a->tf-nightly) (0.7.0)\n",
            "Requirement already satisfied: werkzeug>=1.0.1 in /usr/local/lib/python3.10/dist-packages (from tb-nightly~=2.13.0.a->tf-nightly) (2.3.0)\n",
            "Requirement already satisfied: cachetools<6.0,>=2.0.0 in /usr/local/lib/python3.10/dist-packages (from google-auth<3,>=1.6.3->tb-nightly~=2.13.0.a->tf-nightly) (5.3.0)\n",
            "Requirement already satisfied: pyasn1-modules>=0.2.1 in /usr/local/lib/python3.10/dist-packages (from google-auth<3,>=1.6.3->tb-nightly~=2.13.0.a->tf-nightly) (0.3.0)\n",
            "Requirement already satisfied: rsa<5,>=3.1.4 in /usr/local/lib/python3.10/dist-packages (from google-auth<3,>=1.6.3->tb-nightly~=2.13.0.a->tf-nightly) (4.9)\n",
            "Requirement already satisfied: requests-oauthlib>=0.7.0 in /usr/local/lib/python3.10/dist-packages (from google-auth-oauthlib<1.1,>=0.5->tb-nightly~=2.13.0.a->tf-nightly) (1.3.1)\n",
            "Requirement already satisfied: urllib3<1.27,>=1.21.1 in /usr/local/lib/python3.10/dist-packages (from requests<3,>=2.21.0->tb-nightly~=2.13.0.a->tf-nightly) (1.26.15)\n",
            "Requirement already satisfied: certifi>=2017.4.17 in /usr/local/lib/python3.10/dist-packages (from requests<3,>=2.21.0->tb-nightly~=2.13.0.a->tf-nightly) (2022.12.7)\n",
            "Requirement already satisfied: charset-normalizer~=2.0.0 in /usr/local/lib/python3.10/dist-packages (from requests<3,>=2.21.0->tb-nightly~=2.13.0.a->tf-nightly) (2.0.12)\n",
            "Requirement already satisfied: idna<4,>=2.5 in /usr/local/lib/python3.10/dist-packages (from requests<3,>=2.21.0->tb-nightly~=2.13.0.a->tf-nightly) (3.4)\n",
            "Requirement already satisfied: MarkupSafe>=2.1.1 in /usr/local/lib/python3.10/dist-packages (from werkzeug>=1.0.1->tb-nightly~=2.13.0.a->tf-nightly) (2.1.2)\n",
            "Requirement already satisfied: pyasn1<0.6.0,>=0.4.6 in /usr/local/lib/python3.10/dist-packages (from pyasn1-modules>=0.2.1->google-auth<3,>=1.6.3->tb-nightly~=2.13.0.a->tf-nightly) (0.5.0)\n",
            "Requirement already satisfied: oauthlib>=3.0.0 in /usr/local/lib/python3.10/dist-packages (from requests-oauthlib>=0.7.0->google-auth-oauthlib<1.1,>=0.5->tb-nightly~=2.13.0.a->tf-nightly) (3.2.2)\n"
          ]
        },
        {
          "output_type": "stream",
          "name": "stderr",
          "text": [
            "[nltk_data] Downloading package punkt to /root/nltk_data...\n",
            "[nltk_data]   Package punkt is already up-to-date!\n",
            "[nltk_data] Downloading package stopwords to /root/nltk_data...\n",
            "[nltk_data]   Package stopwords is already up-to-date!\n"
          ]
        },
        {
          "output_type": "execute_result",
          "data": {
            "text/plain": [
              "True"
            ]
          },
          "metadata": {},
          "execution_count": 2
        }
      ]
    },
    {
      "cell_type": "code",
      "source": [
        "#Setting the seeds\n",
        "lucky_number = 42\n",
        "np.random.seed(lucky_number)\n",
        "tf.random.set_seed(lucky_number)"
      ],
      "metadata": {
        "id": "VeRxUYl4xa-i"
      },
      "execution_count": 3,
      "outputs": []
    },
    {
      "cell_type": "markdown",
      "source": [
        "DATA & PREPROCESSING"
      ],
      "metadata": {
        "id": "7SxFtIWQ98qm"
      }
    },
    {
      "cell_type": "code",
      "source": [
        "# Read the data\n",
        "\n",
        "with open(\"/content/drive/MyDrive/NLP/wiki_00.txt\", \"r\") as f:\n",
        "  text = f.readlines()\n",
        "  text = \"\".join(text)\n",
        "\n",
        "# Preprocessing\n",
        "# Remove the html tags\n",
        "text = re.sub(\"<doc.*>\", \"\", text)\n",
        "text = re.sub(\"</doc>\", \"\", text)\n",
        "# Tag the paragraphs, in order to create Y labels later\n",
        "text = re.sub(\"\\n\\n(\\n)+\", \"\\n\\n\", text)\n",
        "text = re.sub(\"\\n\\n\", \"<p>. \", text)\n",
        "text[5000:6000]"
      ],
      "metadata": {
        "id": "jYcRD3bUnb_O",
        "colab": {
          "base_uri": "https://localhost:8080/",
          "height": 160
        },
        "outputId": "610eda5c-1e42-4535-b5f9-ac04ffa6d962"
      },
      "execution_count": 4,
      "outputs": [
        {
          "output_type": "execute_result",
          "data": {
            "text/plain": [
              "' olmuştu. Yesügey iki kardeşini yanına alarak ve birlikte ağır ağır giden düğün arabasına yetiştiler. Üç kardeş Onggirat boyunun Olkunat kabilesinden olan Höelin adındaki yeni evli gelini yakaladılar. Höelin başke seçme şansı olmadığı için Yesügey Bahadır’ı yeni kocası olarak kabullendi. Yesügey onunla, doğurduğu oğlan bir kahraman olacak diyerek evlenmişti.<p>. Evlilikten bir süre sonra Yesügey, Tatarlar üzerine yaptığı bir akından geri döndüğünde, Höelin kocasını hamile olduğu haberiyle karşıladı. Kaynaklarda bebeğin doğumu sırasında Höelin’in kapısına bir yay ve ok asılarak şeytanın girmesinin engellendiği ancak yakın akrabalar ve bir kadın Şamanın ebe olarak görev yaptığı ileri sürülmektedir. Şaman, bebeği çok yakından inceleyerek, geleceği hakkında kehanette bulunabilecek bir işaret arayacaktı. Efsaneye göre sağ avucunun içinde sonraları gayet doğal olarak, gücün ve çok kan dökeceğinin simgesi olarak nitelendirilecek aşık kemiği şeklinde bir kan pıhtısı ile doğdu. Yegüsey Bahadır '"
            ],
            "application/vnd.google.colaboratory.intrinsic+json": {
              "type": "string"
            }
          },
          "metadata": {},
          "execution_count": 4
        }
      ]
    },
    {
      "cell_type": "code",
      "source": [
        "# Split the text into sentences\n",
        "text_sent_tokenized = sent_tokenize(text)\n",
        "text_sent_tokenized[:10]"
      ],
      "metadata": {
        "colab": {
          "base_uri": "https://localhost:8080/"
        },
        "id": "RbYXEQnBpFV-",
        "outputId": "053e1ed9-cb99-469e-a49d-5b16bc2a31ef"
      },
      "execution_count": 5,
      "outputs": [
        {
          "output_type": "execute_result",
          "data": {
            "text/plain": [
              "['\\nCengiz Han<p>.',\n",
              " 'Cengiz Han (\"Cenghis Khan\", \"Çinggis Haan\" ya da doğum adıyla Temuçin (anlamı: demirci), Moğolca: \"Чингис Хаан\" ya da \"Tengiz\" (anlamı: deniz), ; d. 1162 – ö.',\n",
              " \"18 Ağustos 1227), Moğol komutan, hükümdar ve Moğol İmparatorluğu'nun kurucusudur.\",\n",
              " 'Cengiz Han, 13.',\n",
              " 'Yüzyılın başında Orta Asya\\'daki tüm göçebe bozkır kavimlerini birleştirerek bir ulus haline getirdi ve o ulusu \"Moğol\" siyasi kimliği çatısı altında topladı.',\n",
              " \"Dünya tarihinin en büyük askeri dehalarından biri olarak kabul edilen Cengiz Han, hükümdarlığı döneminde 1206-1227 arasında Kuzey Çin'deki Batı Xia ve Jin Hanedanı, Türkistan'daki Kara Hıtay, Maveraünnehir, Harezm, Horasan ve İran'daki Harzemşahlar ile Kafkasya'da Gürcüler, Deşt-i Kıpçak'taki Rus Knezlikleri ve Kıpçaklar ile İdil Bulgarları üzerine gerçekleştirilen seferler sonucunda Pasifik Okyanusu'ndan Hazar Denizi’ne ve Karadeniz'in kuzeyine kadar uzanan bir imparatorluk kurdu.<p>.\",\n",
              " 'Bozkır geleneğinden gelen onlu teşkilatı kullanarak Meritokratik (liyâkata bağlı) bir ordu meydana getiren Cengiz Han’ın büyük bir asker olarak ün kazanmasının temelinde, kurduğu posta teşkilatı ve casus ağı ile istihbarat sanatına verdiği büyük değer önemli bir yer tutar.',\n",
              " 'Seferleri sonucunda, pek çok şehir tahrip olmuş ve milyonlarca insan da katledilmişti ancak \"Cengiz Han Yasası\" adı ile metinleştirilen kurallar ile işkenceyi yasaklayıp, zanaatkarlar, doktorlar, belli bilgi becerisi olan eğitimli kişiler ve her dinden din adamlarına, hangi milletten olursa olsun aralarında bir ayrım yapılmaksızın saygı gösterilmesi ve vergiden muaf tutulmalarını kanunlaştırmıştır Cengiz Han, halkının yazıya sahip olmasını sağlamak için Uygurlardan önemli bahşıları başkenti Karakurum’a çağırmış ve Moğolca için Uygur alfabesini uyarlatarak bunu çocuklarına da öğretmesini istemiştir.<p>.',\n",
              " \"1227 yılında Kuzey Çin'deki Tangutlar üzerine çıktığı sefer esnasında rahatsızlanarak hayatını kaybetti.\",\n",
              " 'Kurmuş olduğu imparatorluk günümüzde Rusya hariç tüm ülkelerden daha geniş topraklar üzerine yayılmış vaziyette olup ölümünden sonra, oğulları ve torunları döneminde daha da genişleyerek, insanlık tarihinin gördüğü bitişik sınırlara sahip en büyük imparatorluk haline geldi.<p>.']"
            ]
          },
          "metadata": {},
          "execution_count": 5
        }
      ]
    },
    {
      "cell_type": "code",
      "source": [
        "# Creating the Y labels by utilizing the paragraph tags (<p>.)\n",
        "# And removing the paragraph tags to obtain the original sentences back again\n",
        "Y = []\n",
        "for i in range(len(text_sent_tokenized)):\n",
        "  if \"<p>.\" in text_sent_tokenized[i]:\n",
        "    text_sent_tokenized[i] = text_sent_tokenized[i][:-4]\n",
        "    Y.append(1)\n",
        "  else:\n",
        "    Y.append(0)"
      ],
      "metadata": {
        "id": "E_Tmmn5JrX3q"
      },
      "execution_count": 6,
      "outputs": []
    },
    {
      "cell_type": "code",
      "source": [
        "# Further preprocessing...\n",
        "for i in range(len(text_sent_tokenized)):\n",
        "  # Convert to all lowercase\n",
        "  text_sent_tokenized[i] = text_sent_tokenized[i].lower()\n",
        "  # Removing punctuation\n",
        "  text_sent_tokenized[i] = re.sub('[^\\w\\s]', '', text_sent_tokenized[i])"
      ],
      "metadata": {
        "id": "rWTNkjDSAXb5"
      },
      "execution_count": 7,
      "outputs": []
    },
    {
      "cell_type": "code",
      "source": [
        "# Splitting the data\n",
        "sentence_embedding_train_set_size = 100000\n",
        "split_boundaries = [int(.8*(len(text_sent_tokenized)-sentence_embedding_train_set_size)), int(.9*(len(text_sent_tokenized)-sentence_embedding_train_set_size)), len(text_sent_tokenized)-sentence_embedding_train_set_size]\n",
        "\n",
        "train_X_sentences = text_sent_tokenized[:split_boundaries[0]]\n",
        "validation_X_sentences = text_sent_tokenized[split_boundaries[0]:split_boundaries[1]]\n",
        "test_X_sentences = text_sent_tokenized[split_boundaries[1]:split_boundaries[2]]\n",
        "\n",
        "train_Y = Y[:split_boundaries[0]]\n",
        "validation_Y = Y[split_boundaries[0]:split_boundaries[1]]\n",
        "test_Y = Y[split_boundaries[1]:split_boundaries[2]]\n",
        "\n",
        "sentence_embedding_train_set = text_sent_tokenized[split_boundaries[2]:]"
      ],
      "metadata": {
        "id": "fu_r7-LjzgUT"
      },
      "execution_count": 8,
      "outputs": []
    },
    {
      "cell_type": "markdown",
      "source": [
        "SENTENCE EMBEDDING"
      ],
      "metadata": {
        "id": "ikv6IDnl-IPj"
      }
    },
    {
      "cell_type": "code",
      "source": [
        "# Setting the size of the embedding vector\n",
        "embedding_size = 64"
      ],
      "metadata": {
        "id": "oOmTHOYOALFn"
      },
      "execution_count": 4,
      "outputs": []
    },
    {
      "cell_type": "code",
      "source": [
        "tagged_data = [TaggedDocument(word_tokenize(d), [i]) for i, d in enumerate(sentence_embedding_train_set)]\n",
        "tagged_data[:3]"
      ],
      "metadata": {
        "id": "EM-jIbbbAP6j",
        "colab": {
          "base_uri": "https://localhost:8080/"
        },
        "outputId": "9fb5575d-9aad-41e5-b21c-e818a713157c"
      },
      "execution_count": 10,
      "outputs": [
        {
          "output_type": "execute_result",
          "data": {
            "text/plain": [
              "[TaggedDocument(words=['wu', 'kuramsal', 'fizikçiler', 'olan', 'tsungdao', 'lee', 've', 'chenning', 'yangın', '1957', 'yıında', 'nobel', 'kazandıkları', 'kuramlarını', 'yapmalarına', 'olanak', 'sağlayan', 'bir', 'deney', 'dizayn', 'etti', 'wu', 'deneyi'], tags=[0]),\n",
              " TaggedDocument(words=['tarihçilerin', 'büyük', 'bilim', 'olarak', 'adlandırdıkları', '1930larda', 'ernest', 'o', 'lawrence', 'tarafından', 'siklotronun', 'keşfi', 'ile', 'başlamış', 'olan', 've', 'savaş', 'sonrası', 'dönemi', 'fizikçilerinin', 'teorilerini', 'test', 'etmek', 've', 'yeni', 'sınırlara', 'girmek', 'için', 'devasa', 'makineler', 'bütçeler', 've', 'laboratuvarlar', 'gerektiren', 'bir', 'döneme', 'girildi'], tags=[1]),\n",
              " TaggedDocument(words=['fizikte', 'asıl', 'müşterisi', 'hükümetler', 'olmuş', 've', 'temel', 'araştırmaların', 'desteklenmesinin', 'askeri', 've', 'endüstriyel', 'uygulamalar', 'için', 'faydalı', 'teknolojilere', 'neden', 'olabileceğini', 'kabul', 'etmiştir'], tags=[2])]"
            ]
          },
          "metadata": {},
          "execution_count": 10
        }
      ]
    },
    {
      "cell_type": "code",
      "source": [
        "### IF\n",
        "# Read the doc2vec model if already written before\n",
        "# Load the doc2vec model\n",
        "doc2vec_model = None\n",
        "with open('/content/drive/MyDrive/NLP/doc2vec.pkl', 'rb') as f:\n",
        "  doc2vec_model = pickle.load(f)"
      ],
      "metadata": {
        "id": "1Ii3frCSsbnR"
      },
      "execution_count": 5,
      "outputs": []
    },
    {
      "cell_type": "code",
      "source": [
        "### ELSE\n",
        "# DOC2VEC MODEL\n",
        "doc2vec_model = Doc2Vec(vector_size=embedding_size, min_count=3, epochs=40)\n",
        "doc2vec_model.build_vocab(tagged_data)\n",
        "doc2vec_model.train(tagged_data, total_examples=doc2vec_model.corpus_count, epochs=doc2vec_model.epochs)\n",
        "\n",
        "# Saving the doc2vec model\n",
        "with open('/content/drive/MyDrive/NLP/doc2vec.pkl', 'wb') as f:\n",
        "  pickle.dump(doc2vec_model, f)"
      ],
      "metadata": {
        "id": "vY0r3xvT9zuA"
      },
      "execution_count": 11,
      "outputs": []
    },
    {
      "cell_type": "code",
      "source": [
        "### IF\n",
        "# Read the embedding data if already written before\n",
        "train_X = []\n",
        "validation_X = []\n",
        "test_X = []\n",
        "with open('/content/drive/MyDrive/NLP/train_X.pkl', 'rb') as f:\n",
        "  train_X = pickle.load(f)\n",
        "with open('/content/drive/MyDrive/NLP/validation_X.pkl', 'rb') as f:\n",
        "  validation_X = pickle.load(f)\n",
        "with open('/content/drive/MyDrive/NLP/test_X.pkl', 'rb') as f:\n",
        "  test_X = pickle.load(f)\n",
        "\n",
        "train_Y = []\n",
        "validation_Y = []\n",
        "test_Y = []\n",
        "with open('/content/drive/MyDrive/NLP/train_Y.pkl', 'rb') as f:\n",
        "  train_Y = pickle.load(f)\n",
        "with open('/content/drive/MyDrive/NLP/validation_Y.pkl', 'rb') as f:\n",
        "  validation_Y = pickle.load(f)\n",
        "with open('/content/drive/MyDrive/NLP/test_Y.pkl', 'rb') as f:\n",
        "  test_Y = pickle.load(f)"
      ],
      "metadata": {
        "id": "Y62vcrxk5hiX"
      },
      "execution_count": 6,
      "outputs": []
    },
    {
      "cell_type": "code",
      "source": [
        "### ELSE\n",
        "# Using the embeddings of the sentences and creating the train, validation and test data of X\n",
        "train_X = []\n",
        "validation_X = []\n",
        "test_X = []\n",
        "\n",
        "from tqdm.notebook import tqdm\n",
        "\n",
        "for i in tqdm(range(len(train_X_sentences))):\n",
        "  train_X.append(doc2vec_model.infer_vector(word_tokenize(train_X_sentences[i])))\n",
        "for i in range(len(validation_X_sentences)):\n",
        "  validation_X.append(doc2vec_model.infer_vector(word_tokenize(validation_X_sentences[i])))\n",
        "for i in range(len(test_X_sentences)):\n",
        "  test_X.append(doc2vec_model.infer_vector(word_tokenize(test_X_sentences[i])))"
      ],
      "metadata": {
        "colab": {
          "base_uri": "https://localhost:8080/",
          "height": 49,
          "referenced_widgets": [
            "c0a877616f5b48c3910e2fe2a206f2ba",
            "b07edb45f1ee4b768d1a36ea51875fa8",
            "84e59561fcdc4fff8e51d3de07339cc5",
            "94577f7136ac4bd797b2218d1386ee9e",
            "0e16073337a948a297d1c186c778976a",
            "a071181cdf474cefaaca263ab4712f49",
            "60ea3c501b9b4386af344ff14fc8b6f0",
            "9acfc896cb1046788c07c4baf730cbf9",
            "45c618012a674329847b3150d8e0590c",
            "f929cd1eeabe43769d35407bf0c6dd2d",
            "a4f7464730264c06b4a14118f884a875"
          ]
        },
        "id": "6qelWyafDdHU",
        "outputId": "d9693eca-3147-4c70-8994-12c528d66eef"
      },
      "execution_count": null,
      "outputs": [
        {
          "output_type": "display_data",
          "data": {
            "text/plain": [
              "  0%|          | 0/3231519 [00:00<?, ?it/s]"
            ],
            "application/vnd.jupyter.widget-view+json": {
              "version_major": 2,
              "version_minor": 0,
              "model_id": "c0a877616f5b48c3910e2fe2a206f2ba"
            }
          },
          "metadata": {}
        }
      ]
    },
    {
      "cell_type": "code",
      "source": [
        "### ELSE CONT.\n",
        "# Write the founded embedding dataset so that you can use it later\n",
        "with open('/content/drive/MyDrive/NLP/train_X.pkl', 'wb') as f:\n",
        "  pickle.dump(train_X, f)\n",
        "\n",
        "with open('/content/drive/MyDrive/NLP/validation_X.pkl', 'wb') as f:\n",
        "  pickle.dump(validation_X, f)\n",
        "  \n",
        "with open('/content/drive/MyDrive/NLP/test_X.pkl', 'wb') as f:\n",
        "  pickle.dump(test_X, f)\n",
        "\n",
        "with open('/content/drive/MyDrive/NLP/train_Y.pkl', 'wb') as f:\n",
        "  pickle.dump(train_Y, f)\n",
        "\n",
        "with open('/content/drive/MyDrive/NLP/validation_Y.pkl', 'wb') as f:\n",
        "  pickle.dump(validation_Y, f)\n",
        "  \n",
        "with open('/content/drive/MyDrive/NLP/test_Y.pkl', 'wb') as f:\n",
        "  pickle.dump(test_Y, f)"
      ],
      "metadata": {
        "id": "Yn7v77VC1IUJ"
      },
      "execution_count": null,
      "outputs": []
    },
    {
      "cell_type": "code",
      "source": [
        "# Creating bi-gram (sentence-wise) data for model 0\n",
        "train_X_bi = []\n",
        "validation_X_bi = []\n",
        "test_X_bi = []\n",
        "for i in range(len(train_X)-1):\n",
        "  train_X_bi.append(np.concatenate((train_X[i], train_X[i+1])))\n",
        "for i in range(len(validation_X)-1):\n",
        "  validation_X_bi.append(np.concatenate((validation_X[i], validation_X[i+1])))\n",
        "for i in range(len(test_X)-1):\n",
        "  test_X_bi.append(np.concatenate((test_X[i], test_X[i+1])))\n",
        "\n",
        "train_Y_bi = train_Y[:-1]\n",
        "validation_Y_bi = validation_Y[:-1]\n",
        "test_Y_bi = test_Y[:-1]"
      ],
      "metadata": {
        "id": "zbPO1lkmFcDa"
      },
      "execution_count": 7,
      "outputs": []
    },
    {
      "cell_type": "code",
      "source": [
        "# Converting the bi's to numpy arrays (only for model 0)\n",
        "train_X_bi = np.array(train_X_bi, dtype=np.float32)\n",
        "validation_X_bi = np.array(validation_X_bi, dtype=np.float32)\n",
        "test_X_bi = np.array(test_X_bi, dtype=np.float32)\n",
        "\n",
        "train_Y_bi = np.array(train_Y_bi, dtype=np.float32)\n",
        "validation_Y_bi = np.array(validation_Y_bi, dtype=np.float32)\n",
        "test_Y_bi = np.array(test_Y_bi, dtype=np.float32)"
      ],
      "metadata": {
        "id": "aMFaW2JZNCv5"
      },
      "execution_count": 8,
      "outputs": []
    },
    {
      "cell_type": "code",
      "source": [
        "# Converting the lists to numpy arrays (only for model 1)\n",
        "train_X = np.array(train_X, dtype=np.float32)\n",
        "validation_X = np.array(validation_X, dtype=np.float32)\n",
        "test_X = np.array(test_X, dtype=np.float32)\n",
        "\n",
        "train_Y = np.array(train_Y, dtype=np.float32)\n",
        "validation_Y = np.array(validation_Y, dtype=np.float32)\n",
        "test_Y = np.array(test_Y, dtype=np.float32)"
      ],
      "metadata": {
        "id": "n8SR2lYD28uU"
      },
      "execution_count": 7,
      "outputs": []
    },
    {
      "cell_type": "code",
      "source": [
        "# Converting the inputs to wanted format (only for model 1)\n",
        "train_X_temp = np.zeros((train_X.shape[0], 1, train_X.shape[1]))\n",
        "for i in range(train_X.shape[0]):\n",
        "  train_X_temp[i] = [train_X[i]]\n",
        "train_X = train_X_temp\n",
        "\n",
        "validation_X_temp = np.zeros((validation_X.shape[0], 1, validation_X.shape[1]))\n",
        "for i in range(validation_X.shape[0]):\n",
        "  validation_X_temp[i] = [validation_X[i]]\n",
        "validation_X = validation_X_temp\n",
        "\n",
        "test_X_temp = np.zeros((test_X.shape[0], 1, test_X.shape[1]))\n",
        "for i in range(test_X.shape[0]):\n",
        "  test_X_temp[i] = [test_X[i]]\n",
        "test_X = test_X_temp"
      ],
      "metadata": {
        "id": "e9tUX3XVLFfD"
      },
      "execution_count": 8,
      "outputs": []
    },
    {
      "cell_type": "code",
      "source": [
        "# The Model\n",
        "MODEL_NO = 1\n",
        "\n",
        "if MODEL_NO == 0: # Simple Dense Model\n",
        "  model = tf.keras.models.Sequential([\n",
        "      tf.keras.layers.InputLayer(input_shape=(embedding_size*2,)),\n",
        "      tf.keras.layers.Dense(10, activation='relu'),\n",
        "      tf.keras.layers.BatchNormalization(),\n",
        "      tf.keras.layers.Dropout(0.5),\n",
        "      tf.keras.layers.Dense(4, activation='relu'),\n",
        "      tf.keras.layers.BatchNormalization(),\n",
        "      tf.keras.layers.Dense(1, activation='sigmoid')\n",
        "  ])\n",
        "  optimizer = tf.keras.optimizers.Adam(learning_rate=3e-1)\n",
        "  model.summary()\n",
        "  model.compile(loss='binary_crossentropy', optimizer=optimizer, metrics=['accuracy',tf.keras.metrics.F1Score(), tf.keras.metrics.Precision(), tf.keras.metrics.Recall()])\n",
        "  history = model.fit(x=train_X_bi, y=train_Y_bi, batch_size=64, epochs=7, validation_data=(validation_X_bi, validation_Y_bi), verbose=1)\n",
        "\n",
        "elif MODEL_NO == 1: # Recurrent model # This enables the model to look further past than only 2 sentences\n",
        "  model = tf.keras.models.Sequential([\n",
        "    tf.keras.layers.InputLayer(input_shape=(1,embedding_size)),\n",
        "    tf.keras.layers.GRU(16, return_sequences=True),\n",
        "    tf.keras.layers.GRU(16),\n",
        "    tf.keras.layers.Dense(10, activation='relu'),\n",
        "    tf.keras.layers.Dense(4, activation='relu'),\n",
        "    tf.keras.layers.Dense(1, activation='sigmoid')\n",
        "  ])\n",
        "  optimizer = tf.keras.optimizers.Adam(learning_rate=3e-3)\n",
        "  model.summary()\n",
        "  model.compile(loss='binary_crossentropy', optimizer=optimizer, metrics=['accuracy',tf.keras.metrics.F1Score(), tf.keras.metrics.Precision(), tf.keras.metrics.Recall()])\n",
        "  history = model.fit(x=train_X, y=train_Y, batch_size=64, epochs=5, validation_data=(validation_X, validation_Y), verbose=1)"
      ],
      "metadata": {
        "id": "kVDoYRhBveX1",
        "colab": {
          "base_uri": "https://localhost:8080/"
        },
        "outputId": "8cbd9687-aafe-4bf3-a206-bbfe44feca83"
      },
      "execution_count": 9,
      "outputs": [
        {
          "output_type": "stream",
          "name": "stdout",
          "text": [
            "Model: \"sequential\"\n",
            "_________________________________________________________________\n",
            " Layer (type)                Output Shape              Param #   \n",
            "=================================================================\n",
            " gru (GRU)                   (None, 1, 16)             3936      \n",
            "                                                                 \n",
            " gru_1 (GRU)                 (None, 16)                1632      \n",
            "                                                                 \n",
            " dense (Dense)               (None, 10)                170       \n",
            "                                                                 \n",
            " dense_1 (Dense)             (None, 4)                 44        \n",
            "                                                                 \n",
            " dense_2 (Dense)             (None, 1)                 5         \n",
            "                                                                 \n",
            "=================================================================\n",
            "Total params: 5787 (22.61 KB)\n",
            "Trainable params: 5787 (22.61 KB)\n",
            "Non-trainable params: 0 (0.00 Byte)\n",
            "_________________________________________________________________\n",
            "Epoch 1/5\n",
            "50493/50493 [==============================] - 527s 10ms/step - loss: 0.5736 - accuracy: 0.7133 - f1_score: 0.5419 - precision: 0.7647 - recall: 0.3301 - val_loss: 0.6387 - val_accuracy: 0.6587 - val_f1_score: 0.5713 - val_precision: 0.6521 - val_recall: 0.3142\n",
            "Epoch 2/5\n",
            "50493/50493 [==============================] - 513s 10ms/step - loss: 0.5643 - accuracy: 0.7195 - f1_score: 0.5419 - precision: 0.7843 - recall: 0.3381 - val_loss: 0.6246 - val_accuracy: 0.6650 - val_f1_score: 0.5713 - val_precision: 0.6543 - val_recall: 0.3441\n",
            "Epoch 3/5\n",
            "50493/50493 [==============================] - 512s 10ms/step - loss: 0.5610 - accuracy: 0.7215 - f1_score: 0.5419 - precision: 0.7946 - recall: 0.3380 - val_loss: 0.6303 - val_accuracy: 0.6649 - val_f1_score: 0.5713 - val_precision: 0.6691 - val_recall: 0.3205\n",
            "Epoch 4/5\n",
            "50493/50493 [==============================] - 489s 10ms/step - loss: 0.5594 - accuracy: 0.7227 - f1_score: 0.5419 - precision: 0.7978 - recall: 0.3401 - val_loss: 0.6134 - val_accuracy: 0.6767 - val_f1_score: 0.5713 - val_precision: 0.7026 - val_recall: 0.3320\n",
            "Epoch 5/5\n",
            "50493/50493 [==============================] - 490s 10ms/step - loss: 0.5585 - accuracy: 0.7232 - f1_score: 0.5419 - precision: 0.8001 - recall: 0.3402 - val_loss: 0.6137 - val_accuracy: 0.6725 - val_f1_score: 0.5713 - val_precision: 0.7092 - val_recall: 0.3068\n"
          ]
        }
      ]
    },
    {
      "cell_type": "code",
      "source": [
        "# Saving the model\n",
        "model.save('/content/drive/MyDrive/NLP/nlp_' + str(MODEL_NO) + '_type_model')"
      ],
      "metadata": {
        "id": "PKzxywm6w8t_"
      },
      "execution_count": 10,
      "outputs": []
    },
    {
      "cell_type": "code",
      "source": [
        "# Evaluate model\n",
        "print(\"EVALUATION ON TEST DATA\")\n",
        "test_loss, test_acc, f1_score, precision, recall = None, None, None, None, None\n",
        "if MODEL_NO == 0:\n",
        "  test_loss, test_acc, f1_score, precision, recall = model.evaluate(test_X_bi, test_Y_bi)\n",
        "if MODEL_NO == 1:\n",
        "  test_loss, test_acc, f1_score, precision, recall = model.evaluate(test_X, test_Y)"
      ],
      "metadata": {
        "id": "Zqq-VYO6xzvP",
        "colab": {
          "base_uri": "https://localhost:8080/"
        },
        "outputId": "708a9e59-23fc-4542-9e87-99c325213803"
      },
      "execution_count": 11,
      "outputs": [
        {
          "output_type": "stream",
          "name": "stdout",
          "text": [
            "EVALUATION ON TEST DATA\n",
            "12624/12624 [==============================] - 65s 5ms/step - loss: 0.6273 - accuracy: 0.6650 - f1_score: 0.5648 - precision: 0.6850 - recall: 0.2754\n"
          ]
        }
      ]
    },
    {
      "cell_type": "code",
      "source": [
        "# Plot!\n",
        "import matplotlib.pyplot as plt\n",
        "plt.plot(history.history['accuracy'])\n",
        "plt.plot(history.history['val_accuracy'])\n",
        "plt.title('model accuracy')\n",
        "plt.figtext(.7, .25, \"train: {:.4f}\".format(history.history['accuracy'][-1]))\n",
        "plt.figtext(.7, .2, \"valid: {:.4f}\".format(history.history['val_accuracy'][-1]))\n",
        "plt.figtext(.7, .3, \"test: {:.4f}\".format(test_acc))\n",
        "plt.ylabel('accuracy')\n",
        "plt.xlabel('epoch')\n",
        "plt.legend(['train', 'valid'], loc='upper left')\n",
        "plt.show()"
      ],
      "metadata": {
        "id": "a3Zs6pNkyRCq",
        "colab": {
          "base_uri": "https://localhost:8080/",
          "height": 472
        },
        "outputId": "7ef8be74-9ad1-4d0c-dacc-782d690c31e0"
      },
      "execution_count": 12,
      "outputs": [
        {
          "output_type": "display_data",
          "data": {
            "text/plain": [
              "<Figure size 640x480 with 1 Axes>"
            ],
            "image/png": "[encoded data removed]"
          },
          "metadata": {}
        }
      ]
    },
    {
      "cell_type": "code",
      "source": [
        "# INFERENCE - Prediction function for any given instance\n",
        "def infer(text_str, mdl): # Build for model type 1\n",
        "  # Tokenize the text into sentences\n",
        "  text_sent_tokenized = sent_tokenize(text_str)\n",
        "\n",
        "  # Prepare the input X\n",
        "  X = []\n",
        "  # For all sentences:\n",
        "  for i in range(len(text_sent_tokenized)):\n",
        "    # Convert to all lowercase\n",
        "    text_sent_tokenized[i] = text_sent_tokenized[i].lower()\n",
        "    # Remove punctuation\n",
        "    text_sent_tokenized[i] = re.sub('[^\\w\\s]', '', text_sent_tokenized[i])\n",
        "    # Create the sentence embedding and add it to X\n",
        "    X.append(doc2vec_model.infer_vector(word_tokenize(text_sent_tokenized[i])))\n",
        "  \n",
        "  # Convert X to a numpy array\n",
        "  X = np.array(X, dtype=np.float32)\n",
        "\n",
        "  # Convert X to the expected format (matrix to tensor)\n",
        "  X_temp = np.zeros((X.shape[0], 1, X.shape[1]))\n",
        "  for i in range(X.shape[0]):\n",
        "    X_temp[i] = [X[i]]\n",
        "  X = X_temp\n",
        "  \n",
        "  # Give X to the model in order to obtain the list of labels (Y)\n",
        "  Y = mdl.predict(X)\n",
        "\n",
        "  # Construct the paragraph-separated text result\n",
        "  result_str = ''\n",
        "  text_sent_tokenized = sent_tokenize(text_str)\n",
        "  for i in range(Y.shape[0]):\n",
        "    result_str += text_sent_tokenized[i]\n",
        "    if Y[i][0] > 0.5:\n",
        "      result_str += '\\n\\n' # Paragraph Break\n",
        "\n",
        "  return Y, result_str"
      ],
      "metadata": {
        "id": "N3MdSs4_DhIM"
      },
      "execution_count": 13,
      "outputs": []
    },
    {
      "cell_type": "code",
      "source": [
        "# INFERENCE (PREDICTION)\n",
        "# (Input has no paragprah breaks)\n",
        "paragraph_break_probabilities, resulting_text = infer(\"Dasani, The Coca-Cola Company tarafından üretilen, saflaştırılmamış ve aromalı sudan oluşan şişelenmiş su ürünleri markasıdır. Aquafina'nın başarısından sonra (Coca-Cola'nın rakibi PepsiCo tarafından üretilir) 1999 yılında tanıtıltı. Dünya çapında satılan Coca-Cola şişelenmiş suyun birçok markasından biridir. Ürün musluk suyu, filtrelenmiş ve şişelenmiş formada satılıyor. Coca-Cola, yerel belediye su kaynaklarından musluk suyu kullanır, ters osmoz işlemini kullanarak filtreler ve magnezyum sülfat (Epsom tuzu), potasyum klorür ve sofra tuzu (sodyum klorür dahil) eser miktarda mineral ekler. Coca-Cola, Dasani suyunu% 30 bitki bazlı malzemelerden yapılan yeni ambalajlara dağıtacağını açıkladı. Diğer bitki bazlı ambalajların aksine, şişeler standart geri dönüşüm tesisleriyle uyumludur ve standart su şişelerine kıyasla karbon emisyonlarında% 25'e varan bir düşüşü temsil eder, ancak bu yine de musluk suyunun enerji kullanımının 2000 katını temsil eder. Dasani, Kanada’nın tüm eyaletlerinde, 2000’de Québec’in dışında, Amerika’dan bir yıl sonra lansman yapıldı. Marka, Nisan 2001'de kısa bir süre sonra Quebec'te kullanıma sunuldu. Kanada'daki Dasani suyunun ilk kaynağı Calgary, Alberta idi. İkinci bir şişeleme tesisi daha sonra Brampton, Ontario'da açıldı. Calgary ve Brampton tesisleri Coca-Cola'nın düz su (Dasani) ve şekerli su (meşrubat) ürünlerini üretmektedir. Şirketin idari ve pazarlama faaliyetleri Atlanta, Georgia şehrindedir. Dasani <35 ppm toplam çözünmüş mineral tuzuna sahiptir. 2005 yılının başında, Dasani'nin iki aromalı versiyonu tanıtıldı: Ahududu ile Limon. Çilekli Dasani o zamandan beri tanıtıldı. Aromalı içecekler sukraloz ile tatlandırılır. Dasani, 2003 ortalarında Brezilya piyasasına Kova adıyla tanıtıldı. Düzenli, limon ve mandalina lezzetleri de dahil olmak üzere 2005 yılında Şili pazarına sunuldu. 2005'in sonlarında Kolombiya'da üç düzenli lezzeti ile serbest bırakıldı. 2005 yılında Dasani, Arjantin pazarında şeftali, limon, narenciye ve düzenli tatlarla tanıtıldı. Aynı zamanda Meksika'da Ciel Dasani adı altında dört lezzet olarak piyasaya sürüldü. Ayrıca Peru, Ekvador, Paraguay, Uruguay ve Hondurasda da sunuldu.\", model)"
      ],
      "metadata": {
        "colab": {
          "base_uri": "https://localhost:8080/"
        },
        "id": "YZpJ5t9rf3TM",
        "outputId": "73218c0d-2a43-4cbb-b9eb-9537bb0f1c56"
      },
      "execution_count": 14,
      "outputs": [
        {
          "output_type": "stream",
          "name": "stdout",
          "text": [
            "1/1 [==============================] - 1s 1s/step\n"
          ]
        }
      ]
    },
    {
      "cell_type": "code",
      "source": [
        "paragraph_break_probabilities"
      ],
      "metadata": {
        "colab": {
          "base_uri": "https://localhost:8080/"
        },
        "id": "X1l7vuOjiagu",
        "outputId": "1186a3d8-adda-41a5-fbc8-0b22a661d924"
      },
      "execution_count": 15,
      "outputs": [
        {
          "output_type": "execute_result",
          "data": {
            "text/plain": [
              "array([[0.2983348 ],\n",
              "       [0.2493147 ],\n",
              "       [0.32172167],\n",
              "       [0.35217863],\n",
              "       [0.39247873],\n",
              "       [0.33069974],\n",
              "       [0.32077903],\n",
              "       [0.3470442 ],\n",
              "       [0.3202742 ],\n",
              "       [0.53133476],\n",
              "       [0.22475606],\n",
              "       [0.3650225 ],\n",
              "       [0.37736073],\n",
              "       [0.31540108],\n",
              "       [0.04532127],\n",
              "       [0.34910408],\n",
              "       [0.44125494],\n",
              "       [0.3097947 ],\n",
              "       [0.35980174],\n",
              "       [0.17633699],\n",
              "       [0.34156144],\n",
              "       [0.3408305 ],\n",
              "       [0.3826427 ]], dtype=float32)"
            ]
          },
          "metadata": {},
          "execution_count": 15
        }
      ]
    },
    {
      "cell_type": "markdown",
      "source": [
        "The input was:\n",
        "\n",
        "Dasani, The Coca-Cola Company tarafından üretilen, saflaştırılmamış ve aromalı sudan oluşan şişelenmiş su ürünleri markasıdır. Aquafina'nın başarısından sonra (Coca-Cola'nın rakibi PepsiCo tarafından üretilir) 1999 yılında tanıtıltı. Dünya çapında satılan Coca-Cola şişelenmiş suyun birçok markasından biridir. Ürün musluk suyu, filtrelenmiş ve şişelenmiş formada satılıyor. Coca-Cola, yerel belediye su kaynaklarından musluk suyu kullanır, ters osmoz işlemini kullanarak filtreler ve magnezyum sülfat (Epsom tuzu), potasyum klorür ve sofra tuzu (sodyum klorür dahil) eser miktarda mineral ekler. Coca-Cola, Dasani suyunu% 30 bitki bazlı malzemelerden yapılan yeni ambalajlara dağıtacağını açıkladı. Diğer bitki bazlı ambalajların aksine, şişeler standart geri dönüşüm tesisleriyle uyumludur ve standart su şişelerine kıyasla karbon emisyonlarında% 25'e varan bir düşüşü temsil eder, ancak bu yine de musluk suyunun enerji kullanımının 2000 katını temsil eder. Dasani, Kanada’nın tüm eyaletlerinde, 2000’de Québec’in dışında, Amerika’dan bir yıl sonra lansman yapıldı. Marka, Nisan 2001'de kısa bir süre sonra Quebec'te kullanıma sunuldu. Kanada'daki Dasani suyunun ilk kaynağı Calgary, Alberta idi. İkinci bir şişeleme tesisi daha sonra Brampton, Ontario'da açıldı. Calgary ve Brampton tesisleri Coca-Cola'nın düz su (Dasani) ve şekerli su (meşrubat) ürünlerini üretmektedir. Şirketin idari ve pazarlama faaliyetleri Atlanta, Georgia şehrindedir. Dasani <35 ppm toplam çözünmüş mineral tuzuna sahiptir. 2005 yılının başında, Dasani'nin iki aromalı versiyonu tanıtıldı: Ahududu ile Limon. Çilekli Dasani o zamandan beri tanıtıldı. Aromalı içecekler sukraloz ile tatlandırılır. Dasani, 2003 ortalarında Brezilya piyasasına Kova adıyla tanıtıldı. Düzenli, limon ve mandalina lezzetleri de dahil olmak üzere 2005 yılında Şili pazarına sunuldu. 2005'in sonlarında Kolombiya'da üç düzenli lezzeti ile serbest bırakıldı. 2005 yılında Dasani, Arjantin pazarında şeftali, limon, narenciye ve düzenli tatlarla tanıtıldı. Aynı zamanda Meksika'da Ciel Dasani adı altında dört lezzet olarak piyasaya sürüldü. Ayrıca Peru, Ekvador, Paraguay, Uruguay ve Hondurasda da sunuldu."
      ],
      "metadata": {
        "id": "ICPCmKZanlEr"
      }
    },
    {
      "cell_type": "code",
      "source": [
        "print(resulting_text)\n",
        "# The output is:"
      ],
      "metadata": {
        "colab": {
          "base_uri": "https://localhost:8080/"
        },
        "id": "5w4-H37BldUM",
        "outputId": "5b5f0753-014d-45e3-8e0a-1955e20315b4"
      },
      "execution_count": 16,
      "outputs": [
        {
          "output_type": "stream",
          "name": "stdout",
          "text": [
            "Dasani, The Coca-Cola Company tarafından üretilen, saflaştırılmamış ve aromalı sudan oluşan şişelenmiş su ürünleri markasıdır.Aquafina'nın başarısından sonra (Coca-Cola'nın rakibi PepsiCo tarafından üretilir) 1999 yılında tanıtıltı.Dünya çapında satılan Coca-Cola şişelenmiş suyun birçok markasından biridir.Ürün musluk suyu, filtrelenmiş ve şişelenmiş formada satılıyor.Coca-Cola, yerel belediye su kaynaklarından musluk suyu kullanır, ters osmoz işlemini kullanarak filtreler ve magnezyum sülfat (Epsom tuzu), potasyum klorür ve sofra tuzu (sodyum klorür dahil) eser miktarda mineral ekler.Coca-Cola, Dasani suyunu% 30 bitki bazlı malzemelerden yapılan yeni ambalajlara dağıtacağını açıkladı.Diğer bitki bazlı ambalajların aksine, şişeler standart geri dönüşüm tesisleriyle uyumludur ve standart su şişelerine kıyasla karbon emisyonlarında% 25'e varan bir düşüşü temsil eder, ancak bu yine de musluk suyunun enerji kullanımının 2000 katını temsil eder.Dasani, Kanada’nın tüm eyaletlerinde, 2000’de Québec’in dışında, Amerika’dan bir yıl sonra lansman yapıldı.Marka, Nisan 2001'de kısa bir süre sonra Quebec'te kullanıma sunuldu.Kanada'daki Dasani suyunun ilk kaynağı Calgary, Alberta idi.\n",
            "\n",
            "İkinci bir şişeleme tesisi daha sonra Brampton, Ontario'da açıldı.Calgary ve Brampton tesisleri Coca-Cola'nın düz su (Dasani) ve şekerli su (meşrubat) ürünlerini üretmektedir.Şirketin idari ve pazarlama faaliyetleri Atlanta, Georgia şehrindedir.Dasani <35 ppm toplam çözünmüş mineral tuzuna sahiptir.2005 yılının başında, Dasani'nin iki aromalı versiyonu tanıtıldı: Ahududu ile Limon.Çilekli Dasani o zamandan beri tanıtıldı.Aromalı içecekler sukraloz ile tatlandırılır.Dasani, 2003 ortalarında Brezilya piyasasına Kova adıyla tanıtıldı.Düzenli, limon ve mandalina lezzetleri de dahil olmak üzere 2005 yılında Şili pazarına sunuldu.2005'in sonlarında Kolombiya'da üç düzenli lezzeti ile serbest bırakıldı.2005 yılında Dasani, Arjantin pazarında şeftali, limon, narenciye ve düzenli tatlarla tanıtıldı.Aynı zamanda Meksika'da Ciel Dasani adı altında dört lezzet olarak piyasaya sürüldü.Ayrıca Peru, Ekvador, Paraguay, Uruguay ve Hondurasda da sunuldu.\n"
          ]
        }
      ]
    },
    {
      "cell_type": "code",
      "source": [],
      "metadata": {
        "id": "TgWKtOX2nZz6"
      },
      "execution_count": null,
      "outputs": []
    }
  ]
}